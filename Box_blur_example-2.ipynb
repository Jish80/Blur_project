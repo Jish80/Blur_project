{
 "cells": [
  {
   "cell_type": "code",
   "execution_count": 4,
   "metadata": {},
   "outputs": [
    {
     "data": {
      "image/png": "[encoded data removed]",
      "text/plain": [
       "<PIL.Image.Image image mode=L size=9x10 at 0x7FF26D4F3518>"
      ]
     },
     "execution_count": 4,
     "metadata": {},
     "output_type": "execute_result"
    }
   ],
   "source": [
    "import PIL.Image as Image \n",
    "import PIL.ImageFilter as ImageFilter\n",
    "import numpy as np\n",
    "#Read image\n",
    "\n",
    "im = Image.open( 'small_mario.jpg' )\n",
    "#Display image\n",
    "im=im.convert(mode=\"L\")\n",
    "im"
   ]
  },
  {
   "cell_type": "code",
   "execution_count": 5,
   "metadata": {},
   "outputs": [
    {
     "data": {
      "image/png": "[encoded data removed]",
      "text/plain": [
       "<PIL.Image.Image image mode=L size=9x10 at 0x7FF26D4F3358>"
      ]
     },
     "execution_count": 5,
     "metadata": {},
     "output_type": "execute_result"
    }
   ],
   "source": [
    "#Applying a filter to the image\n",
    "im_blur = im.filter(ImageFilter.GaussianBlur(1))\n",
    "im_blur"
   ]
  },
  {
   "cell_type": "code",
   "execution_count": 6,
   "metadata": {},
   "outputs": [
    {
     "name": "stdout",
     "output_type": "stream",
     "text": [
      "[[  5   4  53  55  89  72 104  48   3]\n",
      " [  5   1  50  66  69  72  37  38  33]\n",
      " [  5  33  42  82 179  87  86  70  86]\n",
      " [  4  75 152  34 197 103 156 171  18]\n",
      " [  2  92  18 156 197 105  78  99  52]\n",
      " [ 56  92  75  84  73  85  48  50  37]\n",
      " [115 227  97  39  86  67  56  69  88]\n",
      " [ 21 128  43  54 115  82  60 124  66]\n",
      " [ 12 112  88  41  76  43 149 109  18]\n",
      " [ 10  56  70  15   6  58  57  86   6]]\n"
     ]
    }
   ],
   "source": [
    "pixels=list(im.getdata())\n",
    "width, height =im.size\n",
    "pixels = np.array([pixels[i * width:(i + 1) * width] for i in range(height)])\n",
    "print(pixels)"
   ]
  },
  {
   "cell_type": "markdown",
   "metadata": {
    "collapsed": true
   },
   "source": [
    "Original Image Matrix"
   ]
  },
  {
   "cell_type": "code",
   "execution_count": 7,
   "metadata": {},
   "outputs": [
    {
     "name": "stdout",
     "output_type": "stream",
     "text": [
      "[[  8  19  42  62  74  76  68  49  29]\n",
      " [ 11  24  47  70  85  82  70  56  43]\n",
      " [ 18  38  62  87 108 102  90  77  63]\n",
      " [ 29  54  79 103 124 118 106  91  68]\n",
      " [ 45  66  83 104 120 109  94  81  63]\n",
      " [ 74  88  87  91  96  87  74  67  61]\n",
      " [ 92 105  90  78  79  76  71  71  69]\n",
      " [ 72  89  80  69  73  76  80  80  70]\n",
      " [ 47  68  68  57  59  70  82  78  55]\n",
      " [ 34  54  56  43  42  58  72  67  41]]\n"
     ]
    }
   ],
   "source": [
    "pixels2=list(im_blur.getdata())\n",
    "width, height =im.size\n",
    "pixels2 = np.array([pixels2[i * width:(i + 1) * width] for i in range(height)])\n",
    "print(pixels2)"
   ]
  },
  {
   "cell_type": "markdown",
   "metadata": {
    "collapsed": true
   },
   "source": [
    "Blurred Image Matrix"
   ]
  },
  {
   "cell_type": "code",
   "execution_count": 8,
   "metadata": {},
   "outputs": [
    {
     "name": "stdout",
     "output_type": "stream",
     "text": [
      "[[   3   15  -11    7  -15    4  -36    1   26]\n",
      " [   6   23   -3    4   16   10   33   18   10]\n",
      " [  13    5   20    5  -71   15    4    7  -23]\n",
      " [  25  -21  -73   69  -73   15  -50  -80   50]\n",
      " [  43  -26   65  -52  -77    4   16  -18   11]\n",
      " [  18   -4   12    7   23    2   26   17   24]\n",
      " [ -23 -122   -7   39   -7    9   15    2  -19]\n",
      " [  51  -39   37   15  -42   -6   20  -44    4]\n",
      " [  35  -44  -20   16  -17   27  -67  -31   37]\n",
      " [  24   -2  -14   28   36    0   15  -19   35]]\n"
     ]
    }
   ],
   "source": [
    "diff_pixel=pixels2-pixels\n",
    "print (diff_pixel)"
   ]
  }
 ],
 "metadata": {
  "kernelspec": {
   "display_name": "Python 3",
   "language": "python",
   "name": "python3"
  },
  "language_info": {
   "codemirror_mode": {
    "name": "ipython",
    "version": 3
   },
   "file_extension": ".py",
   "mimetype": "text/x-python",
   "name": "python",
   "nbconvert_exporter": "python",
   "pygments_lexer": "ipython3",
   "version": "3.5.3"
  }
 },
 "nbformat": 4,
 "nbformat_minor": 2
}
