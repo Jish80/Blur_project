{
 "cells": [
  {
   "cell_type": "code",
   "execution_count": null,
   "metadata": {
    "collapsed": true
   },
   "outputs": [],
   "source": [
    "#!/usr/bin/env python3\n",
    "# -*- coding: utf-8 -*-\n",
    "\"\"\"\n",
    "Created on Tue Oct 24 14:01:42 2017\n",
    "\n",
    "@author: justin\n",
    "\"\"\"\n",
    "\n",
    "from PIL import Image, ImageFilter\n",
    "import numpy as np\n",
    "#Read image\n",
    "\n",
    "im = Image.open( 'small_mario.jpg' )\n",
    "#Display image\n",
    "im=im.convert(mode=\"L\")\n",
    "im.show()\n",
    "\n",
    "#Applying a filter to the image\n",
    "im_blur = im.filter(ImageFilter.BoxBlur(radius=1))\n",
    "#Saving the filtered image to a new file\n",
    "#im_blur.show()\n",
    "\n",
    "#Splitting the image into its respective bands, i.e. Red, Green,\n",
    "#and Blue for RGB\n",
    "#r,g,b = im_blur.split()\n",
    "\n",
    "#Viewing EXIF data embedded in image\n",
    "#exif_data = im._getexif()\n",
    "#exif_data\n",
    "\n",
    "#pixel access\n",
    "#px=im.load()\n",
    "\n",
    "pixels=list(im.getdata())\n",
    "width, height =im.size\n",
    "pixels = np.array([pixels[i * width:(i + 1) * width] for i in range(height)])\n",
    "print (pixels)\n",
    "\n",
    "pixels2=list(im_blur.getdata())\n",
    "width, height =im.size\n",
    "pixels2 = np.array([pixels2[i * width:(i + 1) * width] for i in range(height)])\n",
    "print (pixels2)\n",
    "\n",
    "diff_pixel=pixels2-pixels\n",
    "print (diff_pixel)"
   ]
  }
 ],
 "metadata": {
  "kernelspec": {
   "display_name": "Python 3",
   "language": "python",
   "name": "python3"
  },
  "language_info": {
   "codemirror_mode": {
    "name": "ipython",
    "version": 3
   },
   "file_extension": ".py",
   "mimetype": "text/x-python",
   "name": "python",
   "nbconvert_exporter": "python",
   "pygments_lexer": "ipython3",
   "version": "3.6.1"
  }
 },
 "nbformat": 4,
 "nbformat_minor": 2
}
